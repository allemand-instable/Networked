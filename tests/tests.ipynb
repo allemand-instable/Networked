{
 "cells": [
  {
   "cell_type": "code",
   "execution_count": 1,
   "metadata": {},
   "outputs": [],
   "source": [
    "\n",
    "import tomllib\n",
    "import tomlkit"
   ]
  },
  {
   "cell_type": "code",
   "execution_count": 2,
   "metadata": {},
   "outputs": [],
   "source": [
    "from pprint import pprint"
   ]
  },
  {
   "cell_type": "code",
   "execution_count": 3,
   "metadata": {},
   "outputs": [],
   "source": [
    "DNS_list = [\n",
    "\n",
    "('Automatic (DHCP)', None, None),\n",
    "\n",
    "('1.1.1.1', ('1.1.1.1', '1.0.0.1'), ('2606:4700:4700::1111', '2606:4700:4700::1001') ),\n",
    "\n",
    "('1.1.1.1 FAMILY', ('1.1.1.3', '1.0.0.3'), ('2606:4700:4700::1113', '2606:4700:4700::1003') ),\n",
    "\n",
    "('OPEN DNS', ('208.67.222.222', '208.67.220.220'), ('2620:119:35::35', '2620:119:53::53') ),\n",
    "\n",
    "('Google Public DNS', ( '8.8.8.8' , '8.8.4.4' ), ('2001:4860:4860::8888' , '2001:4860:4860::8844' ) ),\n",
    "\n",
    "('CUSTOM', None, None),\n",
    "\n",
    "('CANCEL', None, None)\n",
    "\n",
    "\n",
    "]"
   ]
  },
  {
   "cell_type": "code",
   "execution_count": 4,
   "metadata": {},
   "outputs": [
    {
     "name": "stdout",
     "output_type": "stream",
     "text": [
      "{'DNS': {'default': {'ipv4': False, 'ipv6': False, 'name': 'Default'},\n",
      "         'google': {'ipv4': ['8.8.8.8', '8.8.4.4'],\n",
      "                    'ipv6': ['2001:4860:4860::8888', '2001:4860:4860::8844'],\n",
      "                    'name': 'Google Public DNS'},\n",
      "         'onedot': {'ipv4': ['1.1.1.1', '1.0.0.1'],\n",
      "                    'ipv6': ['2606:4700:4700::1111', '2606:4700:4700::1001'],\n",
      "                    'name': 'Cloudflare 1.1.1.1'},\n",
      "         'onedotfamily': {'ipv4': ['1.1.1.3', '1.0.0.3'],\n",
      "                          'ipv6': ['2606:4700:4700::1113',\n",
      "                                   '2606:4700:4700::1003'],\n",
      "                          'name': 'Cloudflare 1.1.1.1 FAMILY'},\n",
      "         'opendns': {'ipv4': ['208.67.222.222', '208.67.220.220'],\n",
      "                     'ipv6': ['2620:119:35::35', '2620:119:53::53'],\n",
      "                     'name': 'OPEN DNS'}}}\n"
     ]
    }
   ],
   "source": [
    "toml_str = \"\"\"\n",
    "[DNS.default]\n",
    "name = \"Default\"\n",
    "ipv4 = false\n",
    "ipv6 = false\n",
    "\n",
    "[DNS.onedot]\n",
    "name = \"Cloudflare 1.1.1.1\"\n",
    "ipv4 = ['1.1.1.1', '1.0.0.1'] \n",
    "ipv6 = ['2606:4700:4700::1111', '2606:4700:4700::1001']\n",
    "\n",
    "[DNS.onedotfamily]\n",
    "name = \"Cloudflare 1.1.1.1 FAMILY\"\n",
    "ipv4 = ['1.1.1.3', '1.0.0.3']\n",
    "ipv6 = ['2606:4700:4700::1113', '2606:4700:4700::1003']\n",
    "\n",
    "[DNS.opendns]\n",
    "name = \"OPEN DNS\"\n",
    "ipv4 = ['208.67.222.222', '208.67.220.220']\n",
    "ipv6 = ['2620:119:35::35', '2620:119:53::53']\n",
    "\n",
    "[DNS.google]\n",
    "name = \"Google Public DNS\"\n",
    "ipv4 = ['8.8.8.8' , '8.8.4.4']\n",
    "ipv6 = ['2001:4860:4860::8888' , '2001:4860:4860::8844']\n",
    "\"\"\"\n",
    "\n",
    "data = tomllib.loads(toml_str)\n",
    "pprint(data)"
   ]
  },
  {
   "cell_type": "code",
   "execution_count": 10,
   "metadata": {},
   "outputs": [
    {
     "name": "stdout",
     "output_type": "stream",
     "text": [
      "{'ipv4': ['208.67.222.222', '208.67.220.220'],\n",
      " 'ipv6': ['2620:119:35::35', '2620:119:53::53'],\n",
      " 'name': 'OPEN DNS'}\n"
     ]
    }
   ],
   "source": [
    "pprint(data[\"DNS\"][\"opendns\"])"
   ]
  },
  {
   "cell_type": "code",
   "execution_count": 11,
   "metadata": {},
   "outputs": [
    {
     "name": "stdout",
     "output_type": "stream",
     "text": [
      "{'default': {'ipv4': False, 'ipv6': False, 'name': 'Default'},\n",
      " 'google': {'ipv4': ['8.8.8.8', '8.8.4.4'],\n",
      "            'ipv6': ['2001:4860:4860::8888', '2001:4860:4860::8844'],\n",
      "            'name': 'Google Public DNS'},\n",
      " 'onedot': {'ipv4': ['1.1.1.1', '1.0.0.1'],\n",
      "            'ipv6': ['2606:4700:4700::1111', '2606:4700:4700::1001'],\n",
      "            'name': 'Cloudflare 1.1.1.1'},\n",
      " 'onedotfamily': {'ipv4': ['1.1.1.3', '1.0.0.3'],\n",
      "                  'ipv6': ['2606:4700:4700::1113', '2606:4700:4700::1003'],\n",
      "                  'name': 'Cloudflare 1.1.1.1 FAMILY'},\n",
      " 'opendns': {'ipv4': ['208.67.222.222', '208.67.220.220'],\n",
      "             'ipv6': ['2620:119:35::35', '2620:119:53::53'],\n",
      "             'name': 'OPEN DNS'}}\n"
     ]
    }
   ],
   "source": [
    "pprint(data[\"DNS\"])"
   ]
  },
  {
   "cell_type": "code",
   "execution_count": 6,
   "metadata": {},
   "outputs": [],
   "source": [
    "from enum import StrEnum\n",
    "\n",
    "class OperatingSystem(StrEnum):\n",
    "    apple = \"Darwin\"\n",
    "    windows = \"Windows\"\n",
    "    linux = \"Linux\"\n"
   ]
  },
  {
   "cell_type": "code",
   "execution_count": 19,
   "metadata": {},
   "outputs": [],
   "source": [
    "settings = tomlkit.loads(toml_str)"
   ]
  },
  {
   "cell_type": "code",
   "execution_count": 20,
   "metadata": {},
   "outputs": [],
   "source": [
    "dns = { 'ipv4': ['ok', 'dac'],\n",
    "        'ipv6': ['oui', 'non'],\n",
    "        'name' : \"wesh\"\n",
    "    }"
   ]
  },
  {
   "cell_type": "code",
   "execution_count": 23,
   "metadata": {},
   "outputs": [
    {
     "data": {
      "text/plain": [
       "{'default': {'name': 'Default', 'ipv4': False, 'ipv6': False}, 'onedot': {'name': 'Cloudflare 1.1.1.1', 'ipv4': ['1.1.1.1', '1.0.0.1'], 'ipv6': ['2606:4700:4700::1111', '2606:4700:4700::1001']}, 'onedotfamily': {'name': 'Cloudflare 1.1.1.1 FAMILY', 'ipv4': ['1.1.1.3', '1.0.0.3'], 'ipv6': ['2606:4700:4700::1113', '2606:4700:4700::1003']}, 'opendns': {'name': 'OPEN DNS', 'ipv4': ['208.67.222.222', '208.67.220.220'], 'ipv6': ['2620:119:35::35', '2620:119:53::53']}, 'google': {'name': 'Google Public DNS', 'ipv4': ['8.8.8.8', '8.8.4.4'], 'ipv6': ['2001:4860:4860::8888', '2001:4860:4860::8844']}, 'new_table': {'name': 'wesh', 'ipv4': ['ok', 'dac'], 'ipv6': ['oui', 'non']}}"
      ]
     },
     "execution_count": 23,
     "metadata": {},
     "output_type": "execute_result"
    }
   ],
   "source": [
    "tab = tomlkit.table()\n",
    "tab.add(\"name\", dns[\"name\"] )\n",
    "tab.add(\"ipv4\", dns[\"ipv4\"])\n",
    "tab.add(\"ipv6\", dns[\"ipv6\"])\n",
    "\n",
    "settings[f\"DNS\"].add(\"new_table\", tab)"
   ]
  },
  {
   "cell_type": "code",
   "execution_count": 22,
   "metadata": {},
   "outputs": [],
   "source": [
    "with open(\"test.toml\", mode=\"wt\", encoding=\"utf-8\") as file:\n",
    "    tomlkit.dump(data = settings, fp = file)"
   ]
  },
  {
   "cell_type": "code",
   "execution_count": null,
   "metadata": {},
   "outputs": [],
   "source": []
  }
 ],
 "metadata": {
  "kernelspec": {
   "display_name": "latest",
   "language": "python",
   "name": "python3"
  },
  "language_info": {
   "codemirror_mode": {
    "name": "ipython",
    "version": 3
   },
   "file_extension": ".py",
   "mimetype": "text/x-python",
   "name": "python",
   "nbconvert_exporter": "python",
   "pygments_lexer": "ipython3",
   "version": "3.11.0"
  },
  "orig_nbformat": 4
 },
 "nbformat": 4,
 "nbformat_minor": 2
}
